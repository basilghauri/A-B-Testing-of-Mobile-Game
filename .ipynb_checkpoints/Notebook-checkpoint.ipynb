{
 "cells": [
  {
   "cell_type": "markdown",
   "metadata": {},
   "source": [
    "# A/B Testing on Mobile Game Data"
   ]
  },
  {
   "cell_type": "markdown",
   "metadata": {},
   "source": [
    "The data is taken from a mobile game called Cookie Cat. It represnts players progress throughout the game in which they encounter obstacles represented as gates that players have to cross either by waiting or doing in-app purchases. In this project we conduct an A/B test to study players retention rate if the first gate in the game is moved from level 30 to level 40. "
   ]
  },
  {
   "cell_type": "markdown",
   "metadata": {},
   "source": [
    "## Load Packages"
   ]
  },
  {
   "cell_type": "code",
   "execution_count": 15,
   "metadata": {},
   "outputs": [],
   "source": [
    "import pandas as pd\n",
    "import numpy as np\n",
    "import matplotlib.pyplot as plt\n",
    "import seaborn as sns\n",
    "\n"
   ]
  },
  {
   "cell_type": "markdown",
   "metadata": {},
   "source": [
    "## Load dataset"
   ]
  },
  {
   "cell_type": "code",
   "execution_count": 2,
   "metadata": {},
   "outputs": [
    {
     "data": {
      "text/html": [
       "<div>\n",
       "<style scoped>\n",
       "    .dataframe tbody tr th:only-of-type {\n",
       "        vertical-align: middle;\n",
       "    }\n",
       "\n",
       "    .dataframe tbody tr th {\n",
       "        vertical-align: top;\n",
       "    }\n",
       "\n",
       "    .dataframe thead th {\n",
       "        text-align: right;\n",
       "    }\n",
       "</style>\n",
       "<table border=\"1\" class=\"dataframe\">\n",
       "  <thead>\n",
       "    <tr style=\"text-align: right;\">\n",
       "      <th></th>\n",
       "      <th>userid</th>\n",
       "      <th>version</th>\n",
       "      <th>sum_gamerounds</th>\n",
       "      <th>retention_1</th>\n",
       "      <th>retention_7</th>\n",
       "    </tr>\n",
       "  </thead>\n",
       "  <tbody>\n",
       "    <tr>\n",
       "      <th>0</th>\n",
       "      <td>116</td>\n",
       "      <td>gate_30</td>\n",
       "      <td>3</td>\n",
       "      <td>False</td>\n",
       "      <td>False</td>\n",
       "    </tr>\n",
       "    <tr>\n",
       "      <th>1</th>\n",
       "      <td>337</td>\n",
       "      <td>gate_30</td>\n",
       "      <td>38</td>\n",
       "      <td>True</td>\n",
       "      <td>False</td>\n",
       "    </tr>\n",
       "    <tr>\n",
       "      <th>2</th>\n",
       "      <td>377</td>\n",
       "      <td>gate_40</td>\n",
       "      <td>165</td>\n",
       "      <td>True</td>\n",
       "      <td>False</td>\n",
       "    </tr>\n",
       "    <tr>\n",
       "      <th>3</th>\n",
       "      <td>483</td>\n",
       "      <td>gate_40</td>\n",
       "      <td>1</td>\n",
       "      <td>False</td>\n",
       "      <td>False</td>\n",
       "    </tr>\n",
       "    <tr>\n",
       "      <th>4</th>\n",
       "      <td>488</td>\n",
       "      <td>gate_40</td>\n",
       "      <td>179</td>\n",
       "      <td>True</td>\n",
       "      <td>True</td>\n",
       "    </tr>\n",
       "  </tbody>\n",
       "</table>\n",
       "</div>"
      ],
      "text/plain": [
       "   userid  version  sum_gamerounds  retention_1  retention_7\n",
       "0     116  gate_30               3        False        False\n",
       "1     337  gate_30              38         True        False\n",
       "2     377  gate_40             165         True        False\n",
       "3     483  gate_40               1        False        False\n",
       "4     488  gate_40             179         True         True"
      ]
     },
     "execution_count": 2,
     "metadata": {},
     "output_type": "execute_result"
    }
   ],
   "source": [
    "\n",
    "data=pd.read_csv('cookie_cats.csv')\n",
    "data.head()"
   ]
  },
  {
   "cell_type": "markdown",
   "metadata": {},
   "source": [
    "## Inspect data"
   ]
  },
  {
   "cell_type": "code",
   "execution_count": 30,
   "metadata": {},
   "outputs": [
    {
     "data": {
      "text/plain": [
       "userid            0\n",
       "version           0\n",
       "sum_gamerounds    0\n",
       "retention_1       0\n",
       "retention_7       0\n",
       "dtype: int64"
      ]
     },
     "execution_count": 30,
     "metadata": {},
     "output_type": "execute_result"
    }
   ],
   "source": [
    "# Missing values in dataset\n",
    "data.isnull().sum()"
   ]
  },
  {
   "cell_type": "markdown",
   "metadata": {},
   "source": [
    "There is nothing better then a dataset having no missing values."
   ]
  },
  {
   "cell_type": "code",
   "execution_count": 9,
   "metadata": {},
   "outputs": [
    {
     "data": {
      "text/plain": [
       "userid            90189\n",
       "version               2\n",
       "sum_gamerounds      942\n",
       "retention_1           2\n",
       "retention_7           2\n",
       "dtype: int64"
      ]
     },
     "execution_count": 9,
     "metadata": {},
     "output_type": "execute_result"
    }
   ],
   "source": [
    "#Number of Unique Values\n",
    "data.nunique()"
   ]
  },
  {
   "cell_type": "markdown",
   "metadata": {},
   "source": [
    "The columns version, retention_1 and retention_2 are represented as factors of two levels each."
   ]
  },
  {
   "cell_type": "code",
   "execution_count": 6,
   "metadata": {},
   "outputs": [
    {
     "data": {
      "text/plain": [
       "count    90189.000000\n",
       "mean        51.872457\n",
       "std        195.050858\n",
       "min          0.000000\n",
       "25%          5.000000\n",
       "50%         16.000000\n",
       "75%         51.000000\n",
       "max      49854.000000\n",
       "Name: sum_gamerounds, dtype: float64"
      ]
     },
     "execution_count": 6,
     "metadata": {},
     "output_type": "execute_result"
    }
   ],
   "source": [
    "# Overall Summary \n",
    "data.sum_gamerounds.describe()"
   ]
  },
  {
   "cell_type": "markdown",
   "metadata": {},
   "source": [
    "This clearly shows that there are abnormal values in the sum_gamerounds column."
   ]
  },
  {
   "cell_type": "code",
   "execution_count": 10,
   "metadata": {},
   "outputs": [
    {
     "data": {
      "text/html": [
       "<div>\n",
       "<style scoped>\n",
       "    .dataframe tbody tr th:only-of-type {\n",
       "        vertical-align: middle;\n",
       "    }\n",
       "\n",
       "    .dataframe tbody tr th {\n",
       "        vertical-align: top;\n",
       "    }\n",
       "\n",
       "    .dataframe thead th {\n",
       "        text-align: right;\n",
       "    }\n",
       "</style>\n",
       "<table border=\"1\" class=\"dataframe\">\n",
       "  <thead>\n",
       "    <tr style=\"text-align: right;\">\n",
       "      <th></th>\n",
       "      <th>count</th>\n",
       "      <th>median</th>\n",
       "      <th>min</th>\n",
       "      <th>max</th>\n",
       "      <th>mean</th>\n",
       "      <th>std</th>\n",
       "    </tr>\n",
       "    <tr>\n",
       "      <th>version</th>\n",
       "      <th></th>\n",
       "      <th></th>\n",
       "      <th></th>\n",
       "      <th></th>\n",
       "      <th></th>\n",
       "      <th></th>\n",
       "    </tr>\n",
       "  </thead>\n",
       "  <tbody>\n",
       "    <tr>\n",
       "      <th>gate_30</th>\n",
       "      <td>44700</td>\n",
       "      <td>17</td>\n",
       "      <td>0</td>\n",
       "      <td>49854</td>\n",
       "      <td>52.456264</td>\n",
       "      <td>256.716423</td>\n",
       "    </tr>\n",
       "    <tr>\n",
       "      <th>gate_40</th>\n",
       "      <td>45489</td>\n",
       "      <td>16</td>\n",
       "      <td>0</td>\n",
       "      <td>2640</td>\n",
       "      <td>51.298776</td>\n",
       "      <td>103.294416</td>\n",
       "    </tr>\n",
       "  </tbody>\n",
       "</table>\n",
       "</div>"
      ],
      "text/plain": [
       "         count  median  min    max       mean         std\n",
       "version                                                  \n",
       "gate_30  44700      17    0  49854  52.456264  256.716423\n",
       "gate_40  45489      16    0   2640  51.298776  103.294416"
      ]
     },
     "execution_count": 10,
     "metadata": {},
     "output_type": "execute_result"
    }
   ],
   "source": [
    "# Summary based on Versions\n",
    "data.groupby('version').sum_gamerounds.agg(['count','median','min','max','mean','std'])"
   ]
  },
  {
   "cell_type": "markdown",
   "metadata": {},
   "source": [
    "## Removing abnormal values"
   ]
  },
  {
   "cell_type": "code",
   "execution_count": 19,
   "metadata": {},
   "outputs": [
    {
     "data": {
      "text/plain": [
       "Text(0.5, 1.0, 'Boxplot of gate_30 and gate_40 versions')"
      ]
     },
     "execution_count": 19,
     "metadata": {},
     "output_type": "execute_result"
    },
    {
     "data": {
      "image/png": "[encoded data removed]",
      "text/plain": [
       "<Figure size 432x288 with 1 Axes>"
      ]
     },
     "metadata": {
      "needs_background": "light"
     },
     "output_type": "display_data"
    }
   ],
   "source": [
    "# Making boxplot of both versions.\n",
    "sns.boxplot(x='version',y='sum_gamerounds',data=data)\n",
    "plt.title('Boxplot of gate_30 and gate_40 versions')\n",
    "\n"
   ]
  },
  {
   "cell_type": "code",
   "execution_count": 20,
   "metadata": {},
   "outputs": [
    {
     "data": {
      "text/plain": [
       "Text(0.5, 1.0, 'Boxplot of gate_30 and gate_40 versions after removing outliers')"
      ]
     },
     "execution_count": 20,
     "metadata": {},
     "output_type": "execute_result"
    },
    {
     "data": {
      "image/png": "[encoded data removed]",
      "text/plain": [
       "<Figure size 432x288 with 1 Axes>"
      ]
     },
     "metadata": {
      "needs_background": "light"
     },
     "output_type": "display_data"
    }
   ],
   "source": [
    "# Removing abnormal values\n",
    "data2=data[data.sum_gamerounds < data.sum_gamerounds.max()]\n",
    "\n",
    "# Making boxplot again after removing outliers\n",
    "sns.boxplot(x='version',y='sum_gamerounds',data=data2)\n",
    "plt.title('Boxplot of gate_30 and gate_40 versions after removing outliers')"
   ]
  },
  {
   "cell_type": "code",
   "execution_count": 22,
   "metadata": {},
   "outputs": [
    {
     "data": {
      "image/png": "[encoded data removed]",
      "text/plain": [
       "<Figure size 1800x720 with 3 Axes>"
      ]
     },
     "metadata": {
      "needs_background": "light"
     },
     "output_type": "display_data"
    }
   ],
   "source": [
    "# Users based on rounds played\n",
    "fig, axes = plt.subplots(3, 1, figsize = (25,10))\n",
    "data2.groupby(\"sum_gamerounds\").userid.count().plot(ax = axes[0])\n",
    "data2.groupby(\"sum_gamerounds\").userid.count()[:150].plot(ax = axes[1])\n",
    "data2.groupby(\"sum_gamerounds\").userid.count()[151:].plot(ax = axes[2])\n",
    "plt.suptitle(\"The number of users based game rounds played\", fontsize = 25)\n",
    "axes[0].set_title(\"Users who played all game rounds\", fontsize = 15)\n",
    "axes[1].set_title(\"Users who played  at least 150 game rounds\",fontsize=15)\n",
    "axes[2].set_title(\"Users who played  more than 150 game rounds\",fontsize=15)\n",
    "plt.tight_layout(pad=5)"
   ]
  },
  {
   "cell_type": "code",
   "execution_count": 24,
   "metadata": {},
   "outputs": [
    {
     "data": {
      "text/plain": [
       "sum_gamerounds\n",
       "30    642\n",
       "40    505\n",
       "Name: userid, dtype: int64"
      ]
     },
     "execution_count": 24,
     "metadata": {},
     "output_type": "execute_result"
    }
   ],
   "source": [
    "# Number of users who reached gate 30 and 40\n",
    "data2.groupby('sum_gamerounds').userid.count().loc[[30,40]]"
   ]
  },
  {
   "cell_type": "markdown",
   "metadata": {},
   "source": [
    "## Analyze Retention Details"
   ]
  },
  {
   "cell_type": "markdown",
   "metadata": {},
   "source": [
    "Retention variables gives us player retention details.\n",
    "\n",
    "1) retention_1 - did the player come back and play 1 day after installing?\n",
    "2) retention_7 - did the player come back and play 7 days after installing?"
   ]
  },
  {
   "cell_type": "code",
   "execution_count": 25,
   "metadata": {},
   "outputs": [
    {
     "data": {
      "text/html": [
       "<div>\n",
       "<style scoped>\n",
       "    .dataframe tbody tr th:only-of-type {\n",
       "        vertical-align: middle;\n",
       "    }\n",
       "\n",
       "    .dataframe tbody tr th {\n",
       "        vertical-align: top;\n",
       "    }\n",
       "\n",
       "    .dataframe thead th {\n",
       "        text-align: right;\n",
       "    }\n",
       "</style>\n",
       "<table border=\"1\" class=\"dataframe\">\n",
       "  <thead>\n",
       "    <tr style=\"text-align: right;\">\n",
       "      <th></th>\n",
       "      <th>1Day_count</th>\n",
       "      <th>7Day_count</th>\n",
       "      <th>1Day_ratio</th>\n",
       "      <th>7Day_ratio</th>\n",
       "    </tr>\n",
       "  </thead>\n",
       "  <tbody>\n",
       "    <tr>\n",
       "      <th>False</th>\n",
       "      <td>50035</td>\n",
       "      <td>73408</td>\n",
       "      <td>0.554786</td>\n",
       "      <td>0.813944</td>\n",
       "    </tr>\n",
       "    <tr>\n",
       "      <th>True</th>\n",
       "      <td>40153</td>\n",
       "      <td>16780</td>\n",
       "      <td>0.445214</td>\n",
       "      <td>0.186056</td>\n",
       "    </tr>\n",
       "  </tbody>\n",
       "</table>\n",
       "</div>"
      ],
      "text/plain": [
       "       1Day_count  7Day_count  1Day_ratio  7Day_ratio\n",
       "False       50035       73408    0.554786    0.813944\n",
       "True        40153       16780    0.445214    0.186056"
      ]
     },
     "execution_count": 25,
     "metadata": {},
     "output_type": "execute_result"
    }
   ],
   "source": [
    "pd.DataFrame({\"1Day_count\": data2[\"retention_1\"].value_counts(),\n",
    "              \"7Day_count\": data2[\"retention_7\"].value_counts(),\n",
    "              \"1Day_ratio\": data2[\"retention_1\"].value_counts() / len(data2),\n",
    "              \"7Day_ratio\": data2[\"retention_7\"].value_counts() / len(data2)})"
   ]
  },
  {
   "cell_type": "markdown",
   "metadata": {},
   "source": [
    "Both the retention groups seem quite similar to each other."
   ]
  },
  {
   "cell_type": "code",
   "execution_count": 26,
   "metadata": {},
   "outputs": [
    {
     "data": {
      "text/html": [
       "<div>\n",
       "<style scoped>\n",
       "    .dataframe tbody tr th:only-of-type {\n",
       "        vertical-align: middle;\n",
       "    }\n",
       "\n",
       "    .dataframe tbody tr th {\n",
       "        vertical-align: top;\n",
       "    }\n",
       "\n",
       "    .dataframe thead th {\n",
       "        text-align: right;\n",
       "    }\n",
       "</style>\n",
       "<table border=\"1\" class=\"dataframe\">\n",
       "  <thead>\n",
       "    <tr style=\"text-align: right;\">\n",
       "      <th></th>\n",
       "      <th></th>\n",
       "      <th></th>\n",
       "      <th>count</th>\n",
       "      <th>median</th>\n",
       "      <th>min</th>\n",
       "      <th>max</th>\n",
       "      <th>mean</th>\n",
       "      <th>std</th>\n",
       "    </tr>\n",
       "    <tr>\n",
       "      <th>version</th>\n",
       "      <th>retention_1</th>\n",
       "      <th>retention_7</th>\n",
       "      <th></th>\n",
       "      <th></th>\n",
       "      <th></th>\n",
       "      <th></th>\n",
       "      <th></th>\n",
       "      <th></th>\n",
       "    </tr>\n",
       "  </thead>\n",
       "  <tbody>\n",
       "    <tr>\n",
       "      <th rowspan=\"4\" valign=\"top\">gate_30</th>\n",
       "      <th rowspan=\"2\" valign=\"top\">False</th>\n",
       "      <th>False</th>\n",
       "      <td>22840</td>\n",
       "      <td>6</td>\n",
       "      <td>0</td>\n",
       "      <td>981</td>\n",
       "      <td>11.819746</td>\n",
       "      <td>21.642643</td>\n",
       "    </tr>\n",
       "    <tr>\n",
       "      <th>True</th>\n",
       "      <td>1825</td>\n",
       "      <td>43</td>\n",
       "      <td>0</td>\n",
       "      <td>1072</td>\n",
       "      <td>73.169315</td>\n",
       "      <td>93.222330</td>\n",
       "    </tr>\n",
       "    <tr>\n",
       "      <th rowspan=\"2\" valign=\"top\">True</th>\n",
       "      <th>False</th>\n",
       "      <td>13358</td>\n",
       "      <td>33</td>\n",
       "      <td>0</td>\n",
       "      <td>918</td>\n",
       "      <td>49.694490</td>\n",
       "      <td>58.125396</td>\n",
       "    </tr>\n",
       "    <tr>\n",
       "      <th>True</th>\n",
       "      <td>6676</td>\n",
       "      <td>127</td>\n",
       "      <td>0</td>\n",
       "      <td>2961</td>\n",
       "      <td>183.886309</td>\n",
       "      <td>189.626390</td>\n",
       "    </tr>\n",
       "    <tr>\n",
       "      <th rowspan=\"4\" valign=\"top\">gate_40</th>\n",
       "      <th rowspan=\"2\" valign=\"top\">False</th>\n",
       "      <th>False</th>\n",
       "      <td>23597</td>\n",
       "      <td>6</td>\n",
       "      <td>0</td>\n",
       "      <td>547</td>\n",
       "      <td>11.913294</td>\n",
       "      <td>20.901020</td>\n",
       "    </tr>\n",
       "    <tr>\n",
       "      <th>True</th>\n",
       "      <td>1773</td>\n",
       "      <td>47</td>\n",
       "      <td>0</td>\n",
       "      <td>1241</td>\n",
       "      <td>75.261139</td>\n",
       "      <td>94.478048</td>\n",
       "    </tr>\n",
       "    <tr>\n",
       "      <th rowspan=\"2\" valign=\"top\">True</th>\n",
       "      <th>False</th>\n",
       "      <td>13613</td>\n",
       "      <td>32</td>\n",
       "      <td>0</td>\n",
       "      <td>2640</td>\n",
       "      <td>50.025490</td>\n",
       "      <td>60.924587</td>\n",
       "    </tr>\n",
       "    <tr>\n",
       "      <th>True</th>\n",
       "      <td>6506</td>\n",
       "      <td>133</td>\n",
       "      <td>0</td>\n",
       "      <td>2294</td>\n",
       "      <td>190.282355</td>\n",
       "      <td>194.220077</td>\n",
       "    </tr>\n",
       "  </tbody>\n",
       "</table>\n",
       "</div>"
      ],
      "text/plain": [
       "                                 count  median  min   max        mean  \\\n",
       "version retention_1 retention_7                                         \n",
       "gate_30 False       False        22840       6    0   981   11.819746   \n",
       "                    True          1825      43    0  1072   73.169315   \n",
       "        True        False        13358      33    0   918   49.694490   \n",
       "                    True          6676     127    0  2961  183.886309   \n",
       "gate_40 False       False        23597       6    0   547   11.913294   \n",
       "                    True          1773      47    0  1241   75.261139   \n",
       "        True        False        13613      32    0  2640   50.025490   \n",
       "                    True          6506     133    0  2294  190.282355   \n",
       "\n",
       "                                        std  \n",
       "version retention_1 retention_7              \n",
       "gate_30 False       False         21.642643  \n",
       "                    True          93.222330  \n",
       "        True        False         58.125396  \n",
       "                    True         189.626390  \n",
       "gate_40 False       False         20.901020  \n",
       "                    True          94.478048  \n",
       "        True        False         60.924587  \n",
       "                    True         194.220077  "
      ]
     },
     "execution_count": 26,
     "metadata": {},
     "output_type": "execute_result"
    }
   ],
   "source": [
    "# Summarize based on version and retention_1\n",
    "data2.groupby(['version','retention_1']).sum_gamerounds.\\\n",
    "agg(['count','median','min','max','mean','std'])"
   ]
  },
  {
   "cell_type": "code",
   "execution_count": 27,
   "metadata": {},
   "outputs": [
    {
     "data": {
      "text/html": [
       "<div>\n",
       "<style scoped>\n",
       "    .dataframe tbody tr th:only-of-type {\n",
       "        vertical-align: middle;\n",
       "    }\n",
       "\n",
       "    .dataframe tbody tr th {\n",
       "        vertical-align: top;\n",
       "    }\n",
       "\n",
       "    .dataframe thead th {\n",
       "        text-align: right;\n",
       "    }\n",
       "</style>\n",
       "<table border=\"1\" class=\"dataframe\">\n",
       "  <thead>\n",
       "    <tr style=\"text-align: right;\">\n",
       "      <th></th>\n",
       "      <th></th>\n",
       "      <th>count</th>\n",
       "      <th>median</th>\n",
       "      <th>min</th>\n",
       "      <th>max</th>\n",
       "      <th>mean</th>\n",
       "      <th>std</th>\n",
       "    </tr>\n",
       "    <tr>\n",
       "      <th>version</th>\n",
       "      <th>retention_7</th>\n",
       "      <th></th>\n",
       "      <th></th>\n",
       "      <th></th>\n",
       "      <th></th>\n",
       "      <th></th>\n",
       "      <th></th>\n",
       "    </tr>\n",
       "  </thead>\n",
       "  <tbody>\n",
       "    <tr>\n",
       "      <th rowspan=\"2\" valign=\"top\">gate_30</th>\n",
       "      <th>False</th>\n",
       "      <td>36198</td>\n",
       "      <td>11</td>\n",
       "      <td>0</td>\n",
       "      <td>981</td>\n",
       "      <td>25.796508</td>\n",
       "      <td>43.316158</td>\n",
       "    </tr>\n",
       "    <tr>\n",
       "      <th>True</th>\n",
       "      <td>8501</td>\n",
       "      <td>105</td>\n",
       "      <td>0</td>\n",
       "      <td>2961</td>\n",
       "      <td>160.117516</td>\n",
       "      <td>179.358560</td>\n",
       "    </tr>\n",
       "    <tr>\n",
       "      <th rowspan=\"2\" valign=\"top\">gate_40</th>\n",
       "      <th>False</th>\n",
       "      <td>37210</td>\n",
       "      <td>11</td>\n",
       "      <td>0</td>\n",
       "      <td>2640</td>\n",
       "      <td>25.856356</td>\n",
       "      <td>44.406112</td>\n",
       "    </tr>\n",
       "    <tr>\n",
       "      <th>True</th>\n",
       "      <td>8279</td>\n",
       "      <td>111</td>\n",
       "      <td>0</td>\n",
       "      <td>2294</td>\n",
       "      <td>165.649837</td>\n",
       "      <td>183.792499</td>\n",
       "    </tr>\n",
       "  </tbody>\n",
       "</table>\n",
       "</div>"
      ],
      "text/plain": [
       "                     count  median  min   max        mean         std\n",
       "version retention_7                                                  \n",
       "gate_30 False        36198      11    0   981   25.796508   43.316158\n",
       "        True          8501     105    0  2961  160.117516  179.358560\n",
       "gate_40 False        37210      11    0  2640   25.856356   44.406112\n",
       "        True          8279     111    0  2294  165.649837  183.792499"
      ]
     },
     "execution_count": 27,
     "metadata": {},
     "output_type": "execute_result"
    }
   ],
   "source": [
    "# Summarize based on version and retention_7\n",
    "data2.groupby(['version','retention_7']).sum_gamerounds.\\\n",
    "agg(['count','median','min','max','mean','std'])"
   ]
  },
  {
   "cell_type": "code",
   "execution_count": 35,
   "metadata": {},
   "outputs": [
    {
     "data": {
      "text/plain": [
       "(version\n",
       " gate_30    0.448198\n",
       " gate_40    0.442283\n",
       " Name: retention_1, dtype: float64,\n",
       " version\n",
       " gate_30    0.190183\n",
       " gate_40    0.182000\n",
       " Name: retention_7, dtype: float64)"
      ]
     },
     "execution_count": 35,
     "metadata": {},
     "output_type": "execute_result"
    }
   ],
   "source": [
    "# Better suitable position of gate based on sample\n",
    "data2.groupby('version').retention_1.mean(), data2.groupby('version').retention_7.mean()"
   ]
  },
  {
   "cell_type": "markdown",
   "metadata": {},
   "source": [
    "## A/B Testing"
   ]
  },
  {
   "cell_type": "markdown",
   "metadata": {},
   "source": [
    "### Assumptions\n",
    "1) Normal Distribution\n",
    "2) Homogeneity\n",
    "3) Normality"
   ]
  },
  {
   "cell_type": "code",
   "execution_count": 32,
   "metadata": {},
   "outputs": [],
   "source": [
    "# Define function for A/B Test\n",
    "def AB_Test(dataframe, group, target):\n",
    "    \n",
    "    # Packages\n",
    "    from scipy.stats import shapiro\n",
    "    import scipy.stats as stats\n",
    "    \n",
    "    # Split A/B\n",
    "    groupA = dataframe[dataframe[group] == \"gate_30\"][target]\n",
    "    groupB = dataframe[dataframe[group] == \"gate_40\"][target]\n",
    "    \n",
    "    # Assumption: Normality\n",
    "    ntA = shapiro(groupA)[1] < 0.05\n",
    "    ntB = shapiro(groupB)[1] < 0.05\n",
    "    # H0: Distribution is Normal! - False\n",
    "    # H1: Distribution is not Normal! - True\n",
    "    \n",
    "    if (ntA == False) & (ntB == False): # \"H0: Normal Distribution\"\n",
    "        # Parametric Test\n",
    "        # Assumption: Homogeneity of variances\n",
    "        leveneTest = stats.levene(groupA, groupB)[1] < 0.05\n",
    "        # H0: Homogeneity: False\n",
    "        # H1: Heterogeneous: True\n",
    "        \n",
    "        if leveneTest == False:\n",
    "            # Homogeneity\n",
    "            ttest = stats.ttest_ind(groupA, groupB, equal_var=True)[1]\n",
    "            # H0: M1 == M2 - False\n",
    "            # H1: M1 != M2 - True\n",
    "        else:\n",
    "            # Heterogeneous\n",
    "            ttest = stats.ttest_ind(groupA, groupB, equal_var=False)[1]\n",
    "            # H0: M1 == M2 - False\n",
    "            # H1: M1 != M2 - True\n",
    "    else:\n",
    "        # Non-Parametric Test\n",
    "        ttest = stats.mannwhitneyu(groupA, groupB)[1] \n",
    "        # H0: M1 == M2 - False\n",
    "        # H1: M1 != M2 - True\n",
    "        \n",
    "    # Result from test\n",
    "    temp = pd.DataFrame({\n",
    "        \"AB Hypothesis\":[ttest < 0.05], \n",
    "        \"p-value\":[ttest]\n",
    "    })\n",
    "    temp[\"Test Type\"] = np.where((ntA == False) & (ntB == False), \"Parametric\", \"Non-Parametric\")\n",
    "    temp[\"AB Hypothesis\"] = np.where(temp[\"AB Hypothesis\"] == False, \"Fail to Reject H0\", \"Reject H0\")\n",
    "    temp[\"Comment\"] = np.where(temp[\"AB Hypothesis\"] == \"Fail to Reject H0\", \"gate_30/gate_40 groups are similar!\", \"gate_30/gate_40 groups are not similar!\")\n",
    "    \n",
    "    # Columns\n",
    "    if (ntA == False) & (ntB == False):\n",
    "        temp[\"Homogeneity\"] = np.where(leveneTest == False, \"Yes\", \"No\")\n",
    "        temp = temp[[\"Test Type\", \"Homogeneity\",\"AB Hypothesis\", \"p-value\", \"Comment\"]]\n",
    "    else:\n",
    "        temp = temp[[\"Test Type\",\"AB Hypothesis\", \"p-value\", \"Comment\"]]\n",
    "    \n",
    "    # Print Hypothesis\n",
    "    print(\"# A/B Testing Hypothesis\")\n",
    "    print(\"H0: A == B\")\n",
    "    print(\"H1: A != B\", \"\\n\")\n",
    "    return temp\n",
    "    \n",
    "        "
   ]
  },
  {
   "cell_type": "code",
   "execution_count": 33,
   "metadata": {},
   "outputs": [
    {
     "name": "stdout",
     "output_type": "stream",
     "text": [
      "# A/B Testing Hypothesis\n",
      "H0: A == B\n",
      "H1: A != B \n",
      "\n"
     ]
    },
    {
     "name": "stderr",
     "output_type": "stream",
     "text": [
      "C:\\Users\\basil\\anaconda3\\lib\\site-packages\\scipy\\stats\\morestats.py:1676: UserWarning: p-value may not be accurate for N > 5000.\n",
      "  warnings.warn(\"p-value may not be accurate for N > 5000.\")\n"
     ]
    },
    {
     "data": {
      "text/html": [
       "<div>\n",
       "<style scoped>\n",
       "    .dataframe tbody tr th:only-of-type {\n",
       "        vertical-align: middle;\n",
       "    }\n",
       "\n",
       "    .dataframe tbody tr th {\n",
       "        vertical-align: top;\n",
       "    }\n",
       "\n",
       "    .dataframe thead th {\n",
       "        text-align: right;\n",
       "    }\n",
       "</style>\n",
       "<table border=\"1\" class=\"dataframe\">\n",
       "  <thead>\n",
       "    <tr style=\"text-align: right;\">\n",
       "      <th></th>\n",
       "      <th>Test Type</th>\n",
       "      <th>AB Hypothesis</th>\n",
       "      <th>p-value</th>\n",
       "      <th>Comment</th>\n",
       "    </tr>\n",
       "  </thead>\n",
       "  <tbody>\n",
       "    <tr>\n",
       "      <th>0</th>\n",
       "      <td>Non-Parametric</td>\n",
       "      <td>Reject H0</td>\n",
       "      <td>0.025446</td>\n",
       "      <td>gate_30/gate_40 groups are not similar!</td>\n",
       "    </tr>\n",
       "  </tbody>\n",
       "</table>\n",
       "</div>"
      ],
      "text/plain": [
       "        Test Type AB Hypothesis   p-value  \\\n",
       "0  Non-Parametric     Reject H0  0.025446   \n",
       "\n",
       "                                   Comment  \n",
       "0  gate_30/gate_40 groups are not similar!  "
      ]
     },
     "execution_count": 33,
     "metadata": {},
     "output_type": "execute_result"
    }
   ],
   "source": [
    "# Apply A/B Testing\n",
    "AB_Test(dataframe=data2, group = \"version\", target = \"sum_gamerounds\")"
   ]
  },
  {
   "cell_type": "markdown",
   "metadata": {},
   "source": [
    "The Shapiro test conducted above rejected our Null Hypothesis Ho for the normality assumption.Hence we had to conduct a Non-paramteric test such as Mann Whitney U test. By conducting this test we reject our Null Hypothesis Ho. This proves that there is a statistical difference between both the groups which consist of moving the gate from level 30 to level 40."
   ]
  }
 ],
 "metadata": {
  "kernelspec": {
   "display_name": "Python 3",
   "language": "python",
   "name": "python3"
  },
  "language_info": {
   "codemirror_mode": {
    "name": "ipython",
    "version": 3
   },
   "file_extension": ".py",
   "mimetype": "text/x-python",
   "name": "python",
   "nbconvert_exporter": "python",
   "pygments_lexer": "ipython3",
   "version": "3.7.6"
  }
 },
 "nbformat": 4,
 "nbformat_minor": 4
}
